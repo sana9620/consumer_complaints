{
 "cells": [
  {
   "cell_type": "code",
   "execution_count": 1,
   "metadata": {},
   "outputs": [],
   "source": [
    "from pandas import *\n",
    "from sklearn.preprocessing import LabelEncoder\n",
    "le=LabelEncoder()\n",
    "\n",
    "import math\n",
    "from sklearn.metrics import accuracy_score,classification_report\n",
    "from sklearn.metrics import roc_auc_score\n",
    "from sklearn.metrics import confusion_matrix\n",
    "from numpy import *\n",
    "from sklearn.model_selection import cross_val_score\n"
   ]
  },
  {
   "cell_type": "code",
   "execution_count": 2,
   "metadata": {},
   "outputs": [
    {
     "data": {
      "text/html": [
       "<div>\n",
       "<style scoped>\n",
       "    .dataframe tbody tr th:only-of-type {\n",
       "        vertical-align: middle;\n",
       "    }\n",
       "\n",
       "    .dataframe tbody tr th {\n",
       "        vertical-align: top;\n",
       "    }\n",
       "\n",
       "    .dataframe thead th {\n",
       "        text-align: right;\n",
       "    }\n",
       "</style>\n",
       "<table border=\"1\" class=\"dataframe\">\n",
       "  <thead>\n",
       "    <tr style=\"text-align: right;\">\n",
       "      <th></th>\n",
       "      <th>Date received</th>\n",
       "      <th>Product</th>\n",
       "      <th>Sub-product</th>\n",
       "      <th>Issue</th>\n",
       "      <th>Sub-issue</th>\n",
       "      <th>Consumer complaint narrative</th>\n",
       "      <th>Company public response</th>\n",
       "      <th>Company</th>\n",
       "      <th>State</th>\n",
       "      <th>ZIP code</th>\n",
       "      <th>Tags</th>\n",
       "      <th>Consumer consent provided?</th>\n",
       "      <th>Submitted via</th>\n",
       "      <th>Date sent to company</th>\n",
       "      <th>Company response to consumer</th>\n",
       "      <th>Timely response?</th>\n",
       "      <th>Consumer disputed?</th>\n",
       "      <th>Complaint ID</th>\n",
       "    </tr>\n",
       "  </thead>\n",
       "  <tbody>\n",
       "    <tr>\n",
       "      <td>0</td>\n",
       "      <td>2014-05-15</td>\n",
       "      <td>Credit card</td>\n",
       "      <td>NaN</td>\n",
       "      <td>Billing statement</td>\n",
       "      <td>NaN</td>\n",
       "      <td>NaN</td>\n",
       "      <td>NaN</td>\n",
       "      <td>Wells Fargo &amp; Company</td>\n",
       "      <td>MI</td>\n",
       "      <td>48342</td>\n",
       "      <td>Older American</td>\n",
       "      <td>NaN</td>\n",
       "      <td>Web</td>\n",
       "      <td>2014-05-16</td>\n",
       "      <td>Closed with explanation</td>\n",
       "      <td>Yes</td>\n",
       "      <td>No</td>\n",
       "      <td>856103</td>\n",
       "    </tr>\n",
       "    <tr>\n",
       "      <td>1</td>\n",
       "      <td>2014-09-18</td>\n",
       "      <td>Bank account or service</td>\n",
       "      <td>(CD) Certificate of deposit</td>\n",
       "      <td>Making/receiving payments, sending money</td>\n",
       "      <td>NaN</td>\n",
       "      <td>NaN</td>\n",
       "      <td>NaN</td>\n",
       "      <td>Santander Bank US</td>\n",
       "      <td>PA</td>\n",
       "      <td>18042</td>\n",
       "      <td>NaN</td>\n",
       "      <td>NaN</td>\n",
       "      <td>Referral</td>\n",
       "      <td>2014-09-24</td>\n",
       "      <td>Closed</td>\n",
       "      <td>Yes</td>\n",
       "      <td>No</td>\n",
       "      <td>1034666</td>\n",
       "    </tr>\n",
       "    <tr>\n",
       "      <td>2</td>\n",
       "      <td>2014-03-13</td>\n",
       "      <td>Credit reporting</td>\n",
       "      <td>NaN</td>\n",
       "      <td>Incorrect information on credit report</td>\n",
       "      <td>Account status</td>\n",
       "      <td>NaN</td>\n",
       "      <td>NaN</td>\n",
       "      <td>Equifax</td>\n",
       "      <td>CA</td>\n",
       "      <td>92427</td>\n",
       "      <td>NaN</td>\n",
       "      <td>NaN</td>\n",
       "      <td>Referral</td>\n",
       "      <td>2014-04-03</td>\n",
       "      <td>Closed with non-monetary relief</td>\n",
       "      <td>Yes</td>\n",
       "      <td>No</td>\n",
       "      <td>756363</td>\n",
       "    </tr>\n",
       "    <tr>\n",
       "      <td>3</td>\n",
       "      <td>2015-07-17</td>\n",
       "      <td>Credit card</td>\n",
       "      <td>NaN</td>\n",
       "      <td>Billing statement</td>\n",
       "      <td>NaN</td>\n",
       "      <td>My credit card statement from US Bank, XXXX. X...</td>\n",
       "      <td>Company chooses not to provide a public response</td>\n",
       "      <td>U.S. Bancorp</td>\n",
       "      <td>GA</td>\n",
       "      <td>305XX</td>\n",
       "      <td>Older American</td>\n",
       "      <td>Consent provided</td>\n",
       "      <td>Web</td>\n",
       "      <td>2015-07-17</td>\n",
       "      <td>Closed with monetary relief</td>\n",
       "      <td>Yes</td>\n",
       "      <td>No</td>\n",
       "      <td>1474177</td>\n",
       "    </tr>\n",
       "    <tr>\n",
       "      <td>4</td>\n",
       "      <td>2014-11-20</td>\n",
       "      <td>Credit card</td>\n",
       "      <td>NaN</td>\n",
       "      <td>Transaction issue</td>\n",
       "      <td>NaN</td>\n",
       "      <td>NaN</td>\n",
       "      <td>NaN</td>\n",
       "      <td>Bank of America</td>\n",
       "      <td>MA</td>\n",
       "      <td>02127</td>\n",
       "      <td>NaN</td>\n",
       "      <td>NaN</td>\n",
       "      <td>Web</td>\n",
       "      <td>2014-11-28</td>\n",
       "      <td>Closed with explanation</td>\n",
       "      <td>Yes</td>\n",
       "      <td>No</td>\n",
       "      <td>1132572</td>\n",
       "    </tr>\n",
       "    <tr>\n",
       "      <td>...</td>\n",
       "      <td>...</td>\n",
       "      <td>...</td>\n",
       "      <td>...</td>\n",
       "      <td>...</td>\n",
       "      <td>...</td>\n",
       "      <td>...</td>\n",
       "      <td>...</td>\n",
       "      <td>...</td>\n",
       "      <td>...</td>\n",
       "      <td>...</td>\n",
       "      <td>...</td>\n",
       "      <td>...</td>\n",
       "      <td>...</td>\n",
       "      <td>...</td>\n",
       "      <td>...</td>\n",
       "      <td>...</td>\n",
       "      <td>...</td>\n",
       "      <td>...</td>\n",
       "    </tr>\n",
       "    <tr>\n",
       "      <td>478416</td>\n",
       "      <td>2015-06-30</td>\n",
       "      <td>Bank account or service</td>\n",
       "      <td>Checking account</td>\n",
       "      <td>Problems caused by my funds being low</td>\n",
       "      <td>NaN</td>\n",
       "      <td>NaN</td>\n",
       "      <td>NaN</td>\n",
       "      <td>JPMorgan Chase &amp; Co.</td>\n",
       "      <td>TX</td>\n",
       "      <td>77008</td>\n",
       "      <td>NaN</td>\n",
       "      <td>NaN</td>\n",
       "      <td>Phone</td>\n",
       "      <td>2015-07-01</td>\n",
       "      <td>Closed with explanation</td>\n",
       "      <td>Yes</td>\n",
       "      <td>No</td>\n",
       "      <td>1445488</td>\n",
       "    </tr>\n",
       "    <tr>\n",
       "      <td>478417</td>\n",
       "      <td>2013-06-20</td>\n",
       "      <td>Credit card</td>\n",
       "      <td>NaN</td>\n",
       "      <td>Collection practices</td>\n",
       "      <td>NaN</td>\n",
       "      <td>NaN</td>\n",
       "      <td>NaN</td>\n",
       "      <td>Citibank</td>\n",
       "      <td>AL</td>\n",
       "      <td>36111</td>\n",
       "      <td>NaN</td>\n",
       "      <td>NaN</td>\n",
       "      <td>Phone</td>\n",
       "      <td>2013-06-21</td>\n",
       "      <td>Closed with explanation</td>\n",
       "      <td>Yes</td>\n",
       "      <td>No</td>\n",
       "      <td>438011</td>\n",
       "    </tr>\n",
       "    <tr>\n",
       "      <td>478418</td>\n",
       "      <td>2014-09-09</td>\n",
       "      <td>Credit reporting</td>\n",
       "      <td>NaN</td>\n",
       "      <td>Incorrect information on credit report</td>\n",
       "      <td>Information is not mine</td>\n",
       "      <td>NaN</td>\n",
       "      <td>NaN</td>\n",
       "      <td>Equifax</td>\n",
       "      <td>TX</td>\n",
       "      <td>79201</td>\n",
       "      <td>NaN</td>\n",
       "      <td>NaN</td>\n",
       "      <td>Web</td>\n",
       "      <td>2014-09-09</td>\n",
       "      <td>Closed with explanation</td>\n",
       "      <td>Yes</td>\n",
       "      <td>No</td>\n",
       "      <td>1020651</td>\n",
       "    </tr>\n",
       "    <tr>\n",
       "      <td>478419</td>\n",
       "      <td>2012-09-21</td>\n",
       "      <td>Mortgage</td>\n",
       "      <td>Conventional fixed mortgage</td>\n",
       "      <td>Loan modification,collection,foreclosure</td>\n",
       "      <td>NaN</td>\n",
       "      <td>NaN</td>\n",
       "      <td>NaN</td>\n",
       "      <td>Select Portfolio Servicing, Inc</td>\n",
       "      <td>CA</td>\n",
       "      <td>91765</td>\n",
       "      <td>NaN</td>\n",
       "      <td>NaN</td>\n",
       "      <td>Web</td>\n",
       "      <td>2012-09-24</td>\n",
       "      <td>Closed with explanation</td>\n",
       "      <td>Yes</td>\n",
       "      <td>No</td>\n",
       "      <td>157524</td>\n",
       "    </tr>\n",
       "    <tr>\n",
       "      <td>478420</td>\n",
       "      <td>2014-10-30</td>\n",
       "      <td>Consumer Loan</td>\n",
       "      <td>Vehicle lease</td>\n",
       "      <td>Managing the loan or lease</td>\n",
       "      <td>NaN</td>\n",
       "      <td>NaN</td>\n",
       "      <td>NaN</td>\n",
       "      <td>Ally Financial Inc.</td>\n",
       "      <td>TX</td>\n",
       "      <td>77041</td>\n",
       "      <td>Older American</td>\n",
       "      <td>NaN</td>\n",
       "      <td>Web</td>\n",
       "      <td>2014-10-30</td>\n",
       "      <td>Closed with non-monetary relief</td>\n",
       "      <td>Yes</td>\n",
       "      <td>No</td>\n",
       "      <td>1093195</td>\n",
       "    </tr>\n",
       "  </tbody>\n",
       "</table>\n",
       "<p>478421 rows × 18 columns</p>\n",
       "</div>"
      ],
      "text/plain": [
       "       Date received                  Product                  Sub-product  \\\n",
       "0         2014-05-15              Credit card                          NaN   \n",
       "1         2014-09-18  Bank account or service  (CD) Certificate of deposit   \n",
       "2         2014-03-13         Credit reporting                          NaN   \n",
       "3         2015-07-17              Credit card                          NaN   \n",
       "4         2014-11-20              Credit card                          NaN   \n",
       "...              ...                      ...                          ...   \n",
       "478416    2015-06-30  Bank account or service             Checking account   \n",
       "478417    2013-06-20              Credit card                          NaN   \n",
       "478418    2014-09-09         Credit reporting                          NaN   \n",
       "478419    2012-09-21                 Mortgage  Conventional fixed mortgage   \n",
       "478420    2014-10-30            Consumer Loan                Vehicle lease   \n",
       "\n",
       "                                           Issue                Sub-issue  \\\n",
       "0                              Billing statement                      NaN   \n",
       "1       Making/receiving payments, sending money                      NaN   \n",
       "2         Incorrect information on credit report           Account status   \n",
       "3                              Billing statement                      NaN   \n",
       "4                              Transaction issue                      NaN   \n",
       "...                                          ...                      ...   \n",
       "478416     Problems caused by my funds being low                      NaN   \n",
       "478417                      Collection practices                      NaN   \n",
       "478418    Incorrect information on credit report  Information is not mine   \n",
       "478419  Loan modification,collection,foreclosure                      NaN   \n",
       "478420                Managing the loan or lease                      NaN   \n",
       "\n",
       "                             Consumer complaint narrative  \\\n",
       "0                                                     NaN   \n",
       "1                                                     NaN   \n",
       "2                                                     NaN   \n",
       "3       My credit card statement from US Bank, XXXX. X...   \n",
       "4                                                     NaN   \n",
       "...                                                   ...   \n",
       "478416                                                NaN   \n",
       "478417                                                NaN   \n",
       "478418                                                NaN   \n",
       "478419                                                NaN   \n",
       "478420                                                NaN   \n",
       "\n",
       "                                 Company public response  \\\n",
       "0                                                    NaN   \n",
       "1                                                    NaN   \n",
       "2                                                    NaN   \n",
       "3       Company chooses not to provide a public response   \n",
       "4                                                    NaN   \n",
       "...                                                  ...   \n",
       "478416                                               NaN   \n",
       "478417                                               NaN   \n",
       "478418                                               NaN   \n",
       "478419                                               NaN   \n",
       "478420                                               NaN   \n",
       "\n",
       "                                Company State ZIP code            Tags  \\\n",
       "0                 Wells Fargo & Company    MI    48342  Older American   \n",
       "1                     Santander Bank US    PA    18042             NaN   \n",
       "2                               Equifax    CA    92427             NaN   \n",
       "3                          U.S. Bancorp    GA    305XX  Older American   \n",
       "4                       Bank of America    MA    02127             NaN   \n",
       "...                                 ...   ...      ...             ...   \n",
       "478416             JPMorgan Chase & Co.    TX    77008             NaN   \n",
       "478417                         Citibank    AL    36111             NaN   \n",
       "478418                          Equifax    TX    79201             NaN   \n",
       "478419  Select Portfolio Servicing, Inc    CA    91765             NaN   \n",
       "478420              Ally Financial Inc.    TX    77041  Older American   \n",
       "\n",
       "       Consumer consent provided? Submitted via Date sent to company  \\\n",
       "0                             NaN           Web           2014-05-16   \n",
       "1                             NaN      Referral           2014-09-24   \n",
       "2                             NaN      Referral           2014-04-03   \n",
       "3                Consent provided           Web           2015-07-17   \n",
       "4                             NaN           Web           2014-11-28   \n",
       "...                           ...           ...                  ...   \n",
       "478416                        NaN         Phone           2015-07-01   \n",
       "478417                        NaN         Phone           2013-06-21   \n",
       "478418                        NaN           Web           2014-09-09   \n",
       "478419                        NaN           Web           2012-09-24   \n",
       "478420                        NaN           Web           2014-10-30   \n",
       "\n",
       "           Company response to consumer Timely response? Consumer disputed?  \\\n",
       "0               Closed with explanation              Yes                 No   \n",
       "1                                Closed              Yes                 No   \n",
       "2       Closed with non-monetary relief              Yes                 No   \n",
       "3           Closed with monetary relief              Yes                 No   \n",
       "4               Closed with explanation              Yes                 No   \n",
       "...                                 ...              ...                ...   \n",
       "478416          Closed with explanation              Yes                 No   \n",
       "478417          Closed with explanation              Yes                 No   \n",
       "478418          Closed with explanation              Yes                 No   \n",
       "478419          Closed with explanation              Yes                 No   \n",
       "478420  Closed with non-monetary relief              Yes                 No   \n",
       "\n",
       "        Complaint ID  \n",
       "0             856103  \n",
       "1            1034666  \n",
       "2             756363  \n",
       "3            1474177  \n",
       "4            1132572  \n",
       "...              ...  \n",
       "478416       1445488  \n",
       "478417        438011  \n",
       "478418       1020651  \n",
       "478419        157524  \n",
       "478420       1093195  \n",
       "\n",
       "[478421 rows x 18 columns]"
      ]
     },
     "execution_count": 2,
     "metadata": {},
     "output_type": "execute_result"
    }
   ],
   "source": [
    "train=read_csv(\"Consumer_Complaints_train.csv\")\n",
    "xtest=read_csv(\"Consumer_Complaints_test_share.csv\")\n",
    "ytest=read_csv('sample_submission.csv')\n",
    "\n",
    "train\n"
   ]
  },
  {
   "cell_type": "code",
   "execution_count": 3,
   "metadata": {},
   "outputs": [],
   "source": [
    "for col in ['Date received','Date sent to company']:\n",
    "    train[col]=to_datetime(train[col],infer_datetime_format=True)\n",
    "    xtest[col]=to_datetime(xtest[col],infer_datetime_format=True)"
   ]
  },
  {
   "cell_type": "code",
   "execution_count": 4,
   "metadata": {},
   "outputs": [],
   "source": [
    "train['day_diff']=to_numeric(train['Date sent to company']-train['Date received'])\n",
    "xtest['day_diff']=to_numeric(xtest['Date sent to company']-xtest['Date received'])"
   ]
  },
  {
   "cell_type": "code",
   "execution_count": 5,
   "metadata": {},
   "outputs": [],
   "source": [
    "train = train.drop(['Date sent to company','Date received','Complaint ID','ZIP code','State'], axis=1)\n",
    "xtest = xtest.drop(['Date sent to company','Date received','Complaint ID','ZIP code','State'], axis=1)"
   ]
  },
  {
   "cell_type": "code",
   "execution_count": 6,
   "metadata": {},
   "outputs": [
    {
     "name": "stdout",
     "output_type": "stream",
     "text": [
      "Sub-product 138473\n",
      "Sub-issue 292625\n",
      "Consumer complaint narrative 403327\n",
      "Company public response 388029\n",
      "Tags 411215\n",
      "Consumer consent provided? 342934\n"
     ]
    }
   ],
   "source": [
    "for col in train.columns:\n",
    "    #print(col,train[col].value_counts())\n",
    "    if train[col].isnull().sum() > 0:\n",
    "        print(col,train[col].isnull().sum())\n",
    "    \n",
    "    #print(col,train[col].nunique())"
   ]
  },
  {
   "cell_type": "code",
   "execution_count": 7,
   "metadata": {},
   "outputs": [
    {
     "data": {
      "text/plain": [
       "Mortgage                   156175\n",
       "Debt collection             86544\n",
       "Credit reporting            81115\n",
       "Credit card                 57358\n",
       "Bank account or service     54403\n",
       "Consumer Loan               18599\n",
       "Student loan                14918\n",
       "Money transfers              3349\n",
       "Payday loan                  3219\n",
       "Prepaid card                 2226\n",
       "Other financial service       507\n",
       "Virtual currency                8\n",
       "Name: Product, dtype: int64"
      ]
     },
     "execution_count": 7,
     "metadata": {},
     "output_type": "execute_result"
    }
   ],
   "source": [
    "train['Product'].value_counts()"
   ]
  },
  {
   "cell_type": "code",
   "execution_count": 8,
   "metadata": {},
   "outputs": [],
   "source": [
    "#product-10,, \n",
    "#Submitted via 6\n",
    "#Company response to consumer 7"
   ]
  },
  {
   "cell_type": "code",
   "execution_count": 9,
   "metadata": {},
   "outputs": [
    {
     "data": {
      "text/plain": [
       "Index(['Product', 'Sub-product', 'Issue', 'Sub-issue',\n",
       "       'Consumer complaint narrative', 'Company public response', 'Company',\n",
       "       'Tags', 'Consumer consent provided?', 'Submitted via',\n",
       "       'Company response to consumer', 'Timely response?',\n",
       "       'Consumer disputed?', 'day_diff'],\n",
       "      dtype='object')"
      ]
     },
     "execution_count": 9,
     "metadata": {},
     "output_type": "execute_result"
    }
   ],
   "source": [
    "train.columns"
   ]
  },
  {
   "cell_type": "code",
   "execution_count": 10,
   "metadata": {},
   "outputs": [],
   "source": [
    "#coz v.few unique val and no nas \n",
    "for col in ['Product','Company response to consumer','Submitted via','Timely response?']:\n",
    "    store_dum=get_dummies(train[col],drop_first=True)\n",
    "    train=concat([store_dum,train],axis=1)\n",
    "    train.drop([col],axis=1,inplace=True)"
   ]
  },
  {
   "cell_type": "code",
   "execution_count": 11,
   "metadata": {},
   "outputs": [
    {
     "data": {
      "text/html": [
       "<div>\n",
       "<style scoped>\n",
       "    .dataframe tbody tr th:only-of-type {\n",
       "        vertical-align: middle;\n",
       "    }\n",
       "\n",
       "    .dataframe tbody tr th {\n",
       "        vertical-align: top;\n",
       "    }\n",
       "\n",
       "    .dataframe thead th {\n",
       "        text-align: right;\n",
       "    }\n",
       "</style>\n",
       "<table border=\"1\" class=\"dataframe\">\n",
       "  <thead>\n",
       "    <tr style=\"text-align: right;\">\n",
       "      <th></th>\n",
       "      <th>Yes</th>\n",
       "      <th>Fax</th>\n",
       "      <th>Phone</th>\n",
       "      <th>Postal mail</th>\n",
       "      <th>Referral</th>\n",
       "      <th>Web</th>\n",
       "      <th>Closed with explanation</th>\n",
       "      <th>Closed with monetary relief</th>\n",
       "      <th>Closed with non-monetary relief</th>\n",
       "      <th>Closed with relief</th>\n",
       "      <th>...</th>\n",
       "      <th>Sub-product</th>\n",
       "      <th>Issue</th>\n",
       "      <th>Sub-issue</th>\n",
       "      <th>Consumer complaint narrative</th>\n",
       "      <th>Company public response</th>\n",
       "      <th>Company</th>\n",
       "      <th>Tags</th>\n",
       "      <th>Consumer consent provided?</th>\n",
       "      <th>Consumer disputed?</th>\n",
       "      <th>day_diff</th>\n",
       "    </tr>\n",
       "  </thead>\n",
       "  <tbody>\n",
       "    <tr>\n",
       "      <td>0</td>\n",
       "      <td>1</td>\n",
       "      <td>0</td>\n",
       "      <td>0</td>\n",
       "      <td>0</td>\n",
       "      <td>0</td>\n",
       "      <td>1</td>\n",
       "      <td>1</td>\n",
       "      <td>0</td>\n",
       "      <td>0</td>\n",
       "      <td>0</td>\n",
       "      <td>...</td>\n",
       "      <td>NaN</td>\n",
       "      <td>Billing statement</td>\n",
       "      <td>NaN</td>\n",
       "      <td>NaN</td>\n",
       "      <td>NaN</td>\n",
       "      <td>Wells Fargo &amp; Company</td>\n",
       "      <td>Older American</td>\n",
       "      <td>NaN</td>\n",
       "      <td>No</td>\n",
       "      <td>86400000000000</td>\n",
       "    </tr>\n",
       "    <tr>\n",
       "      <td>1</td>\n",
       "      <td>1</td>\n",
       "      <td>0</td>\n",
       "      <td>0</td>\n",
       "      <td>0</td>\n",
       "      <td>1</td>\n",
       "      <td>0</td>\n",
       "      <td>0</td>\n",
       "      <td>0</td>\n",
       "      <td>0</td>\n",
       "      <td>0</td>\n",
       "      <td>...</td>\n",
       "      <td>(CD) Certificate of deposit</td>\n",
       "      <td>Making/receiving payments, sending money</td>\n",
       "      <td>NaN</td>\n",
       "      <td>NaN</td>\n",
       "      <td>NaN</td>\n",
       "      <td>Santander Bank US</td>\n",
       "      <td>NaN</td>\n",
       "      <td>NaN</td>\n",
       "      <td>No</td>\n",
       "      <td>518400000000000</td>\n",
       "    </tr>\n",
       "    <tr>\n",
       "      <td>2</td>\n",
       "      <td>1</td>\n",
       "      <td>0</td>\n",
       "      <td>0</td>\n",
       "      <td>0</td>\n",
       "      <td>1</td>\n",
       "      <td>0</td>\n",
       "      <td>0</td>\n",
       "      <td>0</td>\n",
       "      <td>1</td>\n",
       "      <td>0</td>\n",
       "      <td>...</td>\n",
       "      <td>NaN</td>\n",
       "      <td>Incorrect information on credit report</td>\n",
       "      <td>Account status</td>\n",
       "      <td>NaN</td>\n",
       "      <td>NaN</td>\n",
       "      <td>Equifax</td>\n",
       "      <td>NaN</td>\n",
       "      <td>NaN</td>\n",
       "      <td>No</td>\n",
       "      <td>1814400000000000</td>\n",
       "    </tr>\n",
       "    <tr>\n",
       "      <td>3</td>\n",
       "      <td>1</td>\n",
       "      <td>0</td>\n",
       "      <td>0</td>\n",
       "      <td>0</td>\n",
       "      <td>0</td>\n",
       "      <td>1</td>\n",
       "      <td>0</td>\n",
       "      <td>1</td>\n",
       "      <td>0</td>\n",
       "      <td>0</td>\n",
       "      <td>...</td>\n",
       "      <td>NaN</td>\n",
       "      <td>Billing statement</td>\n",
       "      <td>NaN</td>\n",
       "      <td>My credit card statement from US Bank, XXXX. X...</td>\n",
       "      <td>Company chooses not to provide a public response</td>\n",
       "      <td>U.S. Bancorp</td>\n",
       "      <td>Older American</td>\n",
       "      <td>Consent provided</td>\n",
       "      <td>No</td>\n",
       "      <td>0</td>\n",
       "    </tr>\n",
       "    <tr>\n",
       "      <td>4</td>\n",
       "      <td>1</td>\n",
       "      <td>0</td>\n",
       "      <td>0</td>\n",
       "      <td>0</td>\n",
       "      <td>0</td>\n",
       "      <td>1</td>\n",
       "      <td>1</td>\n",
       "      <td>0</td>\n",
       "      <td>0</td>\n",
       "      <td>0</td>\n",
       "      <td>...</td>\n",
       "      <td>NaN</td>\n",
       "      <td>Transaction issue</td>\n",
       "      <td>NaN</td>\n",
       "      <td>NaN</td>\n",
       "      <td>NaN</td>\n",
       "      <td>Bank of America</td>\n",
       "      <td>NaN</td>\n",
       "      <td>NaN</td>\n",
       "      <td>No</td>\n",
       "      <td>691200000000000</td>\n",
       "    </tr>\n",
       "    <tr>\n",
       "      <td>...</td>\n",
       "      <td>...</td>\n",
       "      <td>...</td>\n",
       "      <td>...</td>\n",
       "      <td>...</td>\n",
       "      <td>...</td>\n",
       "      <td>...</td>\n",
       "      <td>...</td>\n",
       "      <td>...</td>\n",
       "      <td>...</td>\n",
       "      <td>...</td>\n",
       "      <td>...</td>\n",
       "      <td>...</td>\n",
       "      <td>...</td>\n",
       "      <td>...</td>\n",
       "      <td>...</td>\n",
       "      <td>...</td>\n",
       "      <td>...</td>\n",
       "      <td>...</td>\n",
       "      <td>...</td>\n",
       "      <td>...</td>\n",
       "      <td>...</td>\n",
       "    </tr>\n",
       "    <tr>\n",
       "      <td>478416</td>\n",
       "      <td>1</td>\n",
       "      <td>0</td>\n",
       "      <td>1</td>\n",
       "      <td>0</td>\n",
       "      <td>0</td>\n",
       "      <td>0</td>\n",
       "      <td>1</td>\n",
       "      <td>0</td>\n",
       "      <td>0</td>\n",
       "      <td>0</td>\n",
       "      <td>...</td>\n",
       "      <td>Checking account</td>\n",
       "      <td>Problems caused by my funds being low</td>\n",
       "      <td>NaN</td>\n",
       "      <td>NaN</td>\n",
       "      <td>NaN</td>\n",
       "      <td>JPMorgan Chase &amp; Co.</td>\n",
       "      <td>NaN</td>\n",
       "      <td>NaN</td>\n",
       "      <td>No</td>\n",
       "      <td>86400000000000</td>\n",
       "    </tr>\n",
       "    <tr>\n",
       "      <td>478417</td>\n",
       "      <td>1</td>\n",
       "      <td>0</td>\n",
       "      <td>1</td>\n",
       "      <td>0</td>\n",
       "      <td>0</td>\n",
       "      <td>0</td>\n",
       "      <td>1</td>\n",
       "      <td>0</td>\n",
       "      <td>0</td>\n",
       "      <td>0</td>\n",
       "      <td>...</td>\n",
       "      <td>NaN</td>\n",
       "      <td>Collection practices</td>\n",
       "      <td>NaN</td>\n",
       "      <td>NaN</td>\n",
       "      <td>NaN</td>\n",
       "      <td>Citibank</td>\n",
       "      <td>NaN</td>\n",
       "      <td>NaN</td>\n",
       "      <td>No</td>\n",
       "      <td>86400000000000</td>\n",
       "    </tr>\n",
       "    <tr>\n",
       "      <td>478418</td>\n",
       "      <td>1</td>\n",
       "      <td>0</td>\n",
       "      <td>0</td>\n",
       "      <td>0</td>\n",
       "      <td>0</td>\n",
       "      <td>1</td>\n",
       "      <td>1</td>\n",
       "      <td>0</td>\n",
       "      <td>0</td>\n",
       "      <td>0</td>\n",
       "      <td>...</td>\n",
       "      <td>NaN</td>\n",
       "      <td>Incorrect information on credit report</td>\n",
       "      <td>Information is not mine</td>\n",
       "      <td>NaN</td>\n",
       "      <td>NaN</td>\n",
       "      <td>Equifax</td>\n",
       "      <td>NaN</td>\n",
       "      <td>NaN</td>\n",
       "      <td>No</td>\n",
       "      <td>0</td>\n",
       "    </tr>\n",
       "    <tr>\n",
       "      <td>478419</td>\n",
       "      <td>1</td>\n",
       "      <td>0</td>\n",
       "      <td>0</td>\n",
       "      <td>0</td>\n",
       "      <td>0</td>\n",
       "      <td>1</td>\n",
       "      <td>1</td>\n",
       "      <td>0</td>\n",
       "      <td>0</td>\n",
       "      <td>0</td>\n",
       "      <td>...</td>\n",
       "      <td>Conventional fixed mortgage</td>\n",
       "      <td>Loan modification,collection,foreclosure</td>\n",
       "      <td>NaN</td>\n",
       "      <td>NaN</td>\n",
       "      <td>NaN</td>\n",
       "      <td>Select Portfolio Servicing, Inc</td>\n",
       "      <td>NaN</td>\n",
       "      <td>NaN</td>\n",
       "      <td>No</td>\n",
       "      <td>259200000000000</td>\n",
       "    </tr>\n",
       "    <tr>\n",
       "      <td>478420</td>\n",
       "      <td>1</td>\n",
       "      <td>0</td>\n",
       "      <td>0</td>\n",
       "      <td>0</td>\n",
       "      <td>0</td>\n",
       "      <td>1</td>\n",
       "      <td>0</td>\n",
       "      <td>0</td>\n",
       "      <td>1</td>\n",
       "      <td>0</td>\n",
       "      <td>...</td>\n",
       "      <td>Vehicle lease</td>\n",
       "      <td>Managing the loan or lease</td>\n",
       "      <td>NaN</td>\n",
       "      <td>NaN</td>\n",
       "      <td>NaN</td>\n",
       "      <td>Ally Financial Inc.</td>\n",
       "      <td>Older American</td>\n",
       "      <td>NaN</td>\n",
       "      <td>No</td>\n",
       "      <td>0</td>\n",
       "    </tr>\n",
       "  </tbody>\n",
       "</table>\n",
       "<p>478421 rows × 33 columns</p>\n",
       "</div>"
      ],
      "text/plain": [
       "        Yes  Fax  Phone  Postal mail  Referral  Web  Closed with explanation  \\\n",
       "0         1    0      0            0         0    1                        1   \n",
       "1         1    0      0            0         1    0                        0   \n",
       "2         1    0      0            0         1    0                        0   \n",
       "3         1    0      0            0         0    1                        0   \n",
       "4         1    0      0            0         0    1                        1   \n",
       "...     ...  ...    ...          ...       ...  ...                      ...   \n",
       "478416    1    0      1            0         0    0                        1   \n",
       "478417    1    0      1            0         0    0                        1   \n",
       "478418    1    0      0            0         0    1                        1   \n",
       "478419    1    0      0            0         0    1                        1   \n",
       "478420    1    0      0            0         0    1                        0   \n",
       "\n",
       "        Closed with monetary relief  Closed with non-monetary relief  \\\n",
       "0                                 0                                0   \n",
       "1                                 0                                0   \n",
       "2                                 0                                1   \n",
       "3                                 1                                0   \n",
       "4                                 0                                0   \n",
       "...                             ...                              ...   \n",
       "478416                            0                                0   \n",
       "478417                            0                                0   \n",
       "478418                            0                                0   \n",
       "478419                            0                                0   \n",
       "478420                            0                                1   \n",
       "\n",
       "        Closed with relief  ...                  Sub-product  \\\n",
       "0                        0  ...                          NaN   \n",
       "1                        0  ...  (CD) Certificate of deposit   \n",
       "2                        0  ...                          NaN   \n",
       "3                        0  ...                          NaN   \n",
       "4                        0  ...                          NaN   \n",
       "...                    ...  ...                          ...   \n",
       "478416                   0  ...             Checking account   \n",
       "478417                   0  ...                          NaN   \n",
       "478418                   0  ...                          NaN   \n",
       "478419                   0  ...  Conventional fixed mortgage   \n",
       "478420                   0  ...                Vehicle lease   \n",
       "\n",
       "                                           Issue                Sub-issue  \\\n",
       "0                              Billing statement                      NaN   \n",
       "1       Making/receiving payments, sending money                      NaN   \n",
       "2         Incorrect information on credit report           Account status   \n",
       "3                              Billing statement                      NaN   \n",
       "4                              Transaction issue                      NaN   \n",
       "...                                          ...                      ...   \n",
       "478416     Problems caused by my funds being low                      NaN   \n",
       "478417                      Collection practices                      NaN   \n",
       "478418    Incorrect information on credit report  Information is not mine   \n",
       "478419  Loan modification,collection,foreclosure                      NaN   \n",
       "478420                Managing the loan or lease                      NaN   \n",
       "\n",
       "                             Consumer complaint narrative  \\\n",
       "0                                                     NaN   \n",
       "1                                                     NaN   \n",
       "2                                                     NaN   \n",
       "3       My credit card statement from US Bank, XXXX. X...   \n",
       "4                                                     NaN   \n",
       "...                                                   ...   \n",
       "478416                                                NaN   \n",
       "478417                                                NaN   \n",
       "478418                                                NaN   \n",
       "478419                                                NaN   \n",
       "478420                                                NaN   \n",
       "\n",
       "                                 Company public response  \\\n",
       "0                                                    NaN   \n",
       "1                                                    NaN   \n",
       "2                                                    NaN   \n",
       "3       Company chooses not to provide a public response   \n",
       "4                                                    NaN   \n",
       "...                                                  ...   \n",
       "478416                                               NaN   \n",
       "478417                                               NaN   \n",
       "478418                                               NaN   \n",
       "478419                                               NaN   \n",
       "478420                                               NaN   \n",
       "\n",
       "                                Company            Tags  \\\n",
       "0                 Wells Fargo & Company  Older American   \n",
       "1                     Santander Bank US             NaN   \n",
       "2                               Equifax             NaN   \n",
       "3                          U.S. Bancorp  Older American   \n",
       "4                       Bank of America             NaN   \n",
       "...                                 ...             ...   \n",
       "478416             JPMorgan Chase & Co.             NaN   \n",
       "478417                         Citibank             NaN   \n",
       "478418                          Equifax             NaN   \n",
       "478419  Select Portfolio Servicing, Inc             NaN   \n",
       "478420              Ally Financial Inc.  Older American   \n",
       "\n",
       "        Consumer consent provided?  Consumer disputed?          day_diff  \n",
       "0                              NaN                  No    86400000000000  \n",
       "1                              NaN                  No   518400000000000  \n",
       "2                              NaN                  No  1814400000000000  \n",
       "3                 Consent provided                  No                 0  \n",
       "4                              NaN                  No   691200000000000  \n",
       "...                            ...                 ...               ...  \n",
       "478416                         NaN                  No    86400000000000  \n",
       "478417                         NaN                  No    86400000000000  \n",
       "478418                         NaN                  No                 0  \n",
       "478419                         NaN                  No   259200000000000  \n",
       "478420                         NaN                  No                 0  \n",
       "\n",
       "[478421 rows x 33 columns]"
      ]
     },
     "execution_count": 11,
     "metadata": {},
     "output_type": "execute_result"
    }
   ],
   "source": [
    "train"
   ]
  },
  {
   "cell_type": "code",
   "execution_count": 12,
   "metadata": {},
   "outputs": [
    {
     "data": {
      "text/plain": [
       "Product                              0\n",
       "Sub-product                      34752\n",
       "Issue                                0\n",
       "Sub-issue                        73060\n",
       "Consumer complaint narrative    101049\n",
       "Company public response          96830\n",
       "Company                              0\n",
       "Tags                            102735\n",
       "Consumer consent provided?       85742\n",
       "Submitted via                        1\n",
       "Company response to consumer         0\n",
       "Timely response?                     0\n",
       "day_diff                             0\n",
       "dtype: int64"
      ]
     },
     "execution_count": 12,
     "metadata": {},
     "output_type": "execute_result"
    }
   ],
   "source": [
    "xtest.isnull().sum()"
   ]
  },
  {
   "cell_type": "code",
   "execution_count": 13,
   "metadata": {},
   "outputs": [
    {
     "data": {
      "text/plain": [
       "Product                            12\n",
       "Sub-product                        47\n",
       "Issue                              94\n",
       "Sub-issue                          67\n",
       "Consumer complaint narrative    18438\n",
       "Company public response            10\n",
       "Company                          2237\n",
       "Tags                                3\n",
       "Consumer consent provided?          4\n",
       "Submitted via                       6\n",
       "Company response to consumer        7\n",
       "Timely response?                    2\n",
       "day_diff                          290\n",
       "dtype: int64"
      ]
     },
     "execution_count": 13,
     "metadata": {},
     "output_type": "execute_result"
    }
   ],
   "source": [
    "xtest.nunique()"
   ]
  },
  {
   "cell_type": "code",
   "execution_count": 14,
   "metadata": {},
   "outputs": [],
   "source": [
    "xtest['Submitted via']=xtest['Submitted via'].fillna(xtest['Submitted via'].mode()[0])\n"
   ]
  },
  {
   "cell_type": "code",
   "execution_count": 15,
   "metadata": {},
   "outputs": [],
   "source": [
    "#coz v.few unique val and no nas \n",
    "for col in ['Product','Company response to consumer','Submitted via','Timely response?']:\n",
    "    store_dum1=get_dummies(xtest[col],drop_first=True)\n",
    "    xtest=concat([store_dum1,xtest],axis=1)\n",
    "    xtest.drop([col],axis=1,inplace=True)"
   ]
  },
  {
   "cell_type": "code",
   "execution_count": 16,
   "metadata": {},
   "outputs": [
    {
     "data": {
      "text/html": [
       "<div>\n",
       "<style scoped>\n",
       "    .dataframe tbody tr th:only-of-type {\n",
       "        vertical-align: middle;\n",
       "    }\n",
       "\n",
       "    .dataframe tbody tr th {\n",
       "        vertical-align: top;\n",
       "    }\n",
       "\n",
       "    .dataframe thead th {\n",
       "        text-align: right;\n",
       "    }\n",
       "</style>\n",
       "<table border=\"1\" class=\"dataframe\">\n",
       "  <thead>\n",
       "    <tr style=\"text-align: right;\">\n",
       "      <th></th>\n",
       "      <th>Yes</th>\n",
       "      <th>Fax</th>\n",
       "      <th>Phone</th>\n",
       "      <th>Postal mail</th>\n",
       "      <th>Referral</th>\n",
       "      <th>Web</th>\n",
       "      <th>Closed with explanation</th>\n",
       "      <th>Closed with monetary relief</th>\n",
       "      <th>Closed with non-monetary relief</th>\n",
       "      <th>Closed with relief</th>\n",
       "      <th>...</th>\n",
       "      <th>Virtual currency</th>\n",
       "      <th>Sub-product</th>\n",
       "      <th>Issue</th>\n",
       "      <th>Sub-issue</th>\n",
       "      <th>Consumer complaint narrative</th>\n",
       "      <th>Company public response</th>\n",
       "      <th>Company</th>\n",
       "      <th>Tags</th>\n",
       "      <th>Consumer consent provided?</th>\n",
       "      <th>day_diff</th>\n",
       "    </tr>\n",
       "  </thead>\n",
       "  <tbody>\n",
       "    <tr>\n",
       "      <td>0</td>\n",
       "      <td>1</td>\n",
       "      <td>0</td>\n",
       "      <td>0</td>\n",
       "      <td>0</td>\n",
       "      <td>0</td>\n",
       "      <td>1</td>\n",
       "      <td>1</td>\n",
       "      <td>0</td>\n",
       "      <td>0</td>\n",
       "      <td>0</td>\n",
       "      <td>...</td>\n",
       "      <td>0</td>\n",
       "      <td>Cashing a check without an account</td>\n",
       "      <td>Deposits and withdrawals</td>\n",
       "      <td>NaN</td>\n",
       "      <td>NaN</td>\n",
       "      <td>NaN</td>\n",
       "      <td>Bank of America</td>\n",
       "      <td>NaN</td>\n",
       "      <td>NaN</td>\n",
       "      <td>-86400000000000</td>\n",
       "    </tr>\n",
       "    <tr>\n",
       "      <td>1</td>\n",
       "      <td>1</td>\n",
       "      <td>0</td>\n",
       "      <td>0</td>\n",
       "      <td>0</td>\n",
       "      <td>0</td>\n",
       "      <td>1</td>\n",
       "      <td>1</td>\n",
       "      <td>0</td>\n",
       "      <td>0</td>\n",
       "      <td>0</td>\n",
       "      <td>...</td>\n",
       "      <td>0</td>\n",
       "      <td>Credit card</td>\n",
       "      <td>Cont'd attempts collect debt not owed</td>\n",
       "      <td>Debt was paid</td>\n",
       "      <td>NaN</td>\n",
       "      <td>NaN</td>\n",
       "      <td>National Credit Adjusters, LLC</td>\n",
       "      <td>NaN</td>\n",
       "      <td>Consent not provided</td>\n",
       "      <td>0</td>\n",
       "    </tr>\n",
       "    <tr>\n",
       "      <td>2</td>\n",
       "      <td>1</td>\n",
       "      <td>0</td>\n",
       "      <td>0</td>\n",
       "      <td>0</td>\n",
       "      <td>0</td>\n",
       "      <td>1</td>\n",
       "      <td>0</td>\n",
       "      <td>0</td>\n",
       "      <td>0</td>\n",
       "      <td>0</td>\n",
       "      <td>...</td>\n",
       "      <td>0</td>\n",
       "      <td>Conventional adjustable mortgage (ARM)</td>\n",
       "      <td>Loan servicing, payments, escrow account</td>\n",
       "      <td>NaN</td>\n",
       "      <td>NaN</td>\n",
       "      <td>NaN</td>\n",
       "      <td>Wells Fargo &amp; Company</td>\n",
       "      <td>NaN</td>\n",
       "      <td>NaN</td>\n",
       "      <td>86400000000000</td>\n",
       "    </tr>\n",
       "    <tr>\n",
       "      <td>3</td>\n",
       "      <td>1</td>\n",
       "      <td>0</td>\n",
       "      <td>0</td>\n",
       "      <td>1</td>\n",
       "      <td>0</td>\n",
       "      <td>0</td>\n",
       "      <td>0</td>\n",
       "      <td>0</td>\n",
       "      <td>1</td>\n",
       "      <td>0</td>\n",
       "      <td>...</td>\n",
       "      <td>0</td>\n",
       "      <td>NaN</td>\n",
       "      <td>Unable to get credit report/credit score</td>\n",
       "      <td>Problem getting report or credit score</td>\n",
       "      <td>NaN</td>\n",
       "      <td>Company chooses not to provide a public response</td>\n",
       "      <td>TransUnion Intermediate Holdings, Inc.</td>\n",
       "      <td>Older American</td>\n",
       "      <td>NaN</td>\n",
       "      <td>432000000000000</td>\n",
       "    </tr>\n",
       "    <tr>\n",
       "      <td>4</td>\n",
       "      <td>1</td>\n",
       "      <td>0</td>\n",
       "      <td>0</td>\n",
       "      <td>0</td>\n",
       "      <td>0</td>\n",
       "      <td>1</td>\n",
       "      <td>1</td>\n",
       "      <td>0</td>\n",
       "      <td>0</td>\n",
       "      <td>0</td>\n",
       "      <td>...</td>\n",
       "      <td>0</td>\n",
       "      <td>FHA mortgage</td>\n",
       "      <td>Loan modification,collection,foreclosure</td>\n",
       "      <td>NaN</td>\n",
       "      <td>NaN</td>\n",
       "      <td>NaN</td>\n",
       "      <td>Bank of America</td>\n",
       "      <td>NaN</td>\n",
       "      <td>NaN</td>\n",
       "      <td>0</td>\n",
       "    </tr>\n",
       "    <tr>\n",
       "      <td>...</td>\n",
       "      <td>...</td>\n",
       "      <td>...</td>\n",
       "      <td>...</td>\n",
       "      <td>...</td>\n",
       "      <td>...</td>\n",
       "      <td>...</td>\n",
       "      <td>...</td>\n",
       "      <td>...</td>\n",
       "      <td>...</td>\n",
       "      <td>...</td>\n",
       "      <td>...</td>\n",
       "      <td>...</td>\n",
       "      <td>...</td>\n",
       "      <td>...</td>\n",
       "      <td>...</td>\n",
       "      <td>...</td>\n",
       "      <td>...</td>\n",
       "      <td>...</td>\n",
       "      <td>...</td>\n",
       "      <td>...</td>\n",
       "      <td>...</td>\n",
       "    </tr>\n",
       "    <tr>\n",
       "      <td>119601</td>\n",
       "      <td>1</td>\n",
       "      <td>0</td>\n",
       "      <td>0</td>\n",
       "      <td>0</td>\n",
       "      <td>0</td>\n",
       "      <td>1</td>\n",
       "      <td>0</td>\n",
       "      <td>1</td>\n",
       "      <td>0</td>\n",
       "      <td>0</td>\n",
       "      <td>...</td>\n",
       "      <td>0</td>\n",
       "      <td>NaN</td>\n",
       "      <td>Closing/Cancelling account</td>\n",
       "      <td>NaN</td>\n",
       "      <td>NaN</td>\n",
       "      <td>NaN</td>\n",
       "      <td>JPMorgan Chase &amp; Co.</td>\n",
       "      <td>NaN</td>\n",
       "      <td>NaN</td>\n",
       "      <td>518400000000000</td>\n",
       "    </tr>\n",
       "    <tr>\n",
       "      <td>119602</td>\n",
       "      <td>1</td>\n",
       "      <td>0</td>\n",
       "      <td>0</td>\n",
       "      <td>0</td>\n",
       "      <td>0</td>\n",
       "      <td>1</td>\n",
       "      <td>1</td>\n",
       "      <td>0</td>\n",
       "      <td>0</td>\n",
       "      <td>0</td>\n",
       "      <td>...</td>\n",
       "      <td>0</td>\n",
       "      <td>NaN</td>\n",
       "      <td>Credit reporting company's investigation</td>\n",
       "      <td>No notice of investigation status/result</td>\n",
       "      <td>On XXXX/XXXX/16 a dispute and validation of a ...</td>\n",
       "      <td>Company has responded to the consumer and the ...</td>\n",
       "      <td>Experian</td>\n",
       "      <td>NaN</td>\n",
       "      <td>Consent provided</td>\n",
       "      <td>0</td>\n",
       "    </tr>\n",
       "    <tr>\n",
       "      <td>119603</td>\n",
       "      <td>1</td>\n",
       "      <td>0</td>\n",
       "      <td>1</td>\n",
       "      <td>0</td>\n",
       "      <td>0</td>\n",
       "      <td>0</td>\n",
       "      <td>1</td>\n",
       "      <td>0</td>\n",
       "      <td>0</td>\n",
       "      <td>0</td>\n",
       "      <td>...</td>\n",
       "      <td>0</td>\n",
       "      <td>Other (i.e. phone, health club, etc.)</td>\n",
       "      <td>Disclosure verification of debt</td>\n",
       "      <td>Not given enough info to verify debt</td>\n",
       "      <td>NaN</td>\n",
       "      <td>Company chooses not to provide a public response</td>\n",
       "      <td>FAIR COLLECTIONS &amp; OUTSOURCING, INC.</td>\n",
       "      <td>Servicemember</td>\n",
       "      <td>NaN</td>\n",
       "      <td>259200000000000</td>\n",
       "    </tr>\n",
       "    <tr>\n",
       "      <td>119604</td>\n",
       "      <td>1</td>\n",
       "      <td>0</td>\n",
       "      <td>1</td>\n",
       "      <td>0</td>\n",
       "      <td>0</td>\n",
       "      <td>0</td>\n",
       "      <td>1</td>\n",
       "      <td>0</td>\n",
       "      <td>0</td>\n",
       "      <td>0</td>\n",
       "      <td>...</td>\n",
       "      <td>0</td>\n",
       "      <td>Credit card</td>\n",
       "      <td>Disclosure verification of debt</td>\n",
       "      <td>Not given enough info to verify debt</td>\n",
       "      <td>NaN</td>\n",
       "      <td>NaN</td>\n",
       "      <td>Encore Capital Group</td>\n",
       "      <td>NaN</td>\n",
       "      <td>NaN</td>\n",
       "      <td>86400000000000</td>\n",
       "    </tr>\n",
       "    <tr>\n",
       "      <td>119605</td>\n",
       "      <td>1</td>\n",
       "      <td>0</td>\n",
       "      <td>0</td>\n",
       "      <td>0</td>\n",
       "      <td>0</td>\n",
       "      <td>1</td>\n",
       "      <td>1</td>\n",
       "      <td>0</td>\n",
       "      <td>0</td>\n",
       "      <td>0</td>\n",
       "      <td>...</td>\n",
       "      <td>0</td>\n",
       "      <td>Other (i.e. phone, health club, etc.)</td>\n",
       "      <td>Cont'd attempts collect debt not owed</td>\n",
       "      <td>Debt is not mine</td>\n",
       "      <td>NaN</td>\n",
       "      <td>NaN</td>\n",
       "      <td>AllianceOne Recievables Management</td>\n",
       "      <td>NaN</td>\n",
       "      <td>NaN</td>\n",
       "      <td>0</td>\n",
       "    </tr>\n",
       "  </tbody>\n",
       "</table>\n",
       "<p>119606 rows × 32 columns</p>\n",
       "</div>"
      ],
      "text/plain": [
       "        Yes  Fax  Phone  Postal mail  Referral  Web  Closed with explanation  \\\n",
       "0         1    0      0            0         0    1                        1   \n",
       "1         1    0      0            0         0    1                        1   \n",
       "2         1    0      0            0         0    1                        0   \n",
       "3         1    0      0            1         0    0                        0   \n",
       "4         1    0      0            0         0    1                        1   \n",
       "...     ...  ...    ...          ...       ...  ...                      ...   \n",
       "119601    1    0      0            0         0    1                        0   \n",
       "119602    1    0      0            0         0    1                        1   \n",
       "119603    1    0      1            0         0    0                        1   \n",
       "119604    1    0      1            0         0    0                        1   \n",
       "119605    1    0      0            0         0    1                        1   \n",
       "\n",
       "        Closed with monetary relief  Closed with non-monetary relief  \\\n",
       "0                                 0                                0   \n",
       "1                                 0                                0   \n",
       "2                                 0                                0   \n",
       "3                                 0                                1   \n",
       "4                                 0                                0   \n",
       "...                             ...                              ...   \n",
       "119601                            1                                0   \n",
       "119602                            0                                0   \n",
       "119603                            0                                0   \n",
       "119604                            0                                0   \n",
       "119605                            0                                0   \n",
       "\n",
       "        Closed with relief  ...  Virtual currency  \\\n",
       "0                        0  ...                 0   \n",
       "1                        0  ...                 0   \n",
       "2                        0  ...                 0   \n",
       "3                        0  ...                 0   \n",
       "4                        0  ...                 0   \n",
       "...                    ...  ...               ...   \n",
       "119601                   0  ...                 0   \n",
       "119602                   0  ...                 0   \n",
       "119603                   0  ...                 0   \n",
       "119604                   0  ...                 0   \n",
       "119605                   0  ...                 0   \n",
       "\n",
       "                                   Sub-product  \\\n",
       "0           Cashing a check without an account   \n",
       "1                                  Credit card   \n",
       "2       Conventional adjustable mortgage (ARM)   \n",
       "3                                          NaN   \n",
       "4                                 FHA mortgage   \n",
       "...                                        ...   \n",
       "119601                                     NaN   \n",
       "119602                                     NaN   \n",
       "119603   Other (i.e. phone, health club, etc.)   \n",
       "119604                             Credit card   \n",
       "119605   Other (i.e. phone, health club, etc.)   \n",
       "\n",
       "                                           Issue  \\\n",
       "0                       Deposits and withdrawals   \n",
       "1          Cont'd attempts collect debt not owed   \n",
       "2       Loan servicing, payments, escrow account   \n",
       "3       Unable to get credit report/credit score   \n",
       "4       Loan modification,collection,foreclosure   \n",
       "...                                          ...   \n",
       "119601                Closing/Cancelling account   \n",
       "119602  Credit reporting company's investigation   \n",
       "119603           Disclosure verification of debt   \n",
       "119604           Disclosure verification of debt   \n",
       "119605     Cont'd attempts collect debt not owed   \n",
       "\n",
       "                                       Sub-issue  \\\n",
       "0                                            NaN   \n",
       "1                                  Debt was paid   \n",
       "2                                            NaN   \n",
       "3         Problem getting report or credit score   \n",
       "4                                            NaN   \n",
       "...                                          ...   \n",
       "119601                                       NaN   \n",
       "119602  No notice of investigation status/result   \n",
       "119603      Not given enough info to verify debt   \n",
       "119604      Not given enough info to verify debt   \n",
       "119605                          Debt is not mine   \n",
       "\n",
       "                             Consumer complaint narrative  \\\n",
       "0                                                     NaN   \n",
       "1                                                     NaN   \n",
       "2                                                     NaN   \n",
       "3                                                     NaN   \n",
       "4                                                     NaN   \n",
       "...                                                   ...   \n",
       "119601                                                NaN   \n",
       "119602  On XXXX/XXXX/16 a dispute and validation of a ...   \n",
       "119603                                                NaN   \n",
       "119604                                                NaN   \n",
       "119605                                                NaN   \n",
       "\n",
       "                                  Company public response  \\\n",
       "0                                                     NaN   \n",
       "1                                                     NaN   \n",
       "2                                                     NaN   \n",
       "3        Company chooses not to provide a public response   \n",
       "4                                                     NaN   \n",
       "...                                                   ...   \n",
       "119601                                                NaN   \n",
       "119602  Company has responded to the consumer and the ...   \n",
       "119603   Company chooses not to provide a public response   \n",
       "119604                                                NaN   \n",
       "119605                                                NaN   \n",
       "\n",
       "                                       Company            Tags  \\\n",
       "0                              Bank of America             NaN   \n",
       "1               National Credit Adjusters, LLC             NaN   \n",
       "2                        Wells Fargo & Company             NaN   \n",
       "3       TransUnion Intermediate Holdings, Inc.  Older American   \n",
       "4                              Bank of America             NaN   \n",
       "...                                        ...             ...   \n",
       "119601                    JPMorgan Chase & Co.             NaN   \n",
       "119602                                Experian             NaN   \n",
       "119603    FAIR COLLECTIONS & OUTSOURCING, INC.   Servicemember   \n",
       "119604                    Encore Capital Group             NaN   \n",
       "119605      AllianceOne Recievables Management             NaN   \n",
       "\n",
       "        Consumer consent provided?         day_diff  \n",
       "0                              NaN  -86400000000000  \n",
       "1             Consent not provided                0  \n",
       "2                              NaN   86400000000000  \n",
       "3                              NaN  432000000000000  \n",
       "4                              NaN                0  \n",
       "...                            ...              ...  \n",
       "119601                         NaN  518400000000000  \n",
       "119602            Consent provided                0  \n",
       "119603                         NaN  259200000000000  \n",
       "119604                         NaN   86400000000000  \n",
       "119605                         NaN                0  \n",
       "\n",
       "[119606 rows x 32 columns]"
      ]
     },
     "execution_count": 16,
     "metadata": {},
     "output_type": "execute_result"
    }
   ],
   "source": [
    "xtest"
   ]
  },
  {
   "cell_type": "code",
   "execution_count": 17,
   "metadata": {},
   "outputs": [
    {
     "data": {
      "text/plain": [
       "Yes                                     0\n",
       "Fax                                     0\n",
       "Phone                                   0\n",
       "Postal mail                             0\n",
       "Referral                                0\n",
       "Web                                     0\n",
       "Closed with explanation                 0\n",
       "Closed with monetary relief             0\n",
       "Closed with non-monetary relief         0\n",
       "Closed with relief                      0\n",
       "Closed without relief                   0\n",
       "Untimely response                       0\n",
       "Consumer Loan                           0\n",
       "Credit card                             0\n",
       "Credit reporting                        0\n",
       "Debt collection                         0\n",
       "Money transfers                         0\n",
       "Mortgage                                0\n",
       "Other financial service                 0\n",
       "Payday loan                             0\n",
       "Prepaid card                            0\n",
       "Student loan                            0\n",
       "Virtual currency                        0\n",
       "Sub-product                        138473\n",
       "Issue                                   0\n",
       "Sub-issue                          292625\n",
       "Consumer complaint narrative       403327\n",
       "Company public response            388029\n",
       "Company                                 0\n",
       "Tags                               411215\n",
       "Consumer consent provided?         342934\n",
       "Consumer disputed?                      0\n",
       "day_diff                                0\n",
       "dtype: int64"
      ]
     },
     "execution_count": 17,
     "metadata": {},
     "output_type": "execute_result"
    }
   ],
   "source": [
    "train.isnull().sum()"
   ]
  },
  {
   "cell_type": "code",
   "execution_count": 18,
   "metadata": {},
   "outputs": [
    {
     "data": {
      "text/plain": [
       "Loan modification,collection,foreclosure    80302\n",
       "Incorrect information on credit report      58527\n",
       "Loan servicing, payments, escrow account    51403\n",
       "Cont'd attempts collect debt not owed       36367\n",
       "Account opening, closing, or management     23568\n",
       "Disclosure verification of debt             16235\n",
       "Communication tactics                       15312\n",
       "Deposits and withdrawals                    14721\n",
       "Application, originator, mortgage broker    11201\n",
       "Billing disputes                             9600\n",
       "Credit reporting company's investigation     9492\n",
       "Other                                        9442\n",
       "Name: Issue, dtype: int64"
      ]
     },
     "execution_count": 18,
     "metadata": {},
     "output_type": "execute_result"
    }
   ],
   "source": [
    "train['Issue'].value_counts().head(12)"
   ]
  },
  {
   "cell_type": "code",
   "execution_count": 19,
   "metadata": {},
   "outputs": [
    {
     "data": {
      "text/plain": [
       "95"
      ]
     },
     "execution_count": 19,
     "metadata": {},
     "output_type": "execute_result"
    }
   ],
   "source": [
    "train['Issue'].nunique()"
   ]
  },
  {
   "cell_type": "code",
   "execution_count": 20,
   "metadata": {},
   "outputs": [],
   "source": [
    "top_20_i=[x for x in train['Issue'].value_counts().sort_values(ascending=False).head(12).index]"
   ]
  },
  {
   "cell_type": "code",
   "execution_count": 21,
   "metadata": {},
   "outputs": [
    {
     "data": {
      "text/plain": [
       "['Loan modification,collection,foreclosure',\n",
       " 'Incorrect information on credit report',\n",
       " 'Loan servicing, payments, escrow account',\n",
       " \"Cont'd attempts collect debt not owed\",\n",
       " 'Account opening, closing, or management',\n",
       " 'Disclosure verification of debt',\n",
       " 'Communication tactics',\n",
       " 'Deposits and withdrawals',\n",
       " 'Application, originator, mortgage broker',\n",
       " 'Billing disputes',\n",
       " \"Credit reporting company's investigation\",\n",
       " 'Other']"
      ]
     },
     "execution_count": 21,
     "metadata": {},
     "output_type": "execute_result"
    }
   ],
   "source": [
    "top_20_i"
   ]
  },
  {
   "cell_type": "code",
   "execution_count": 22,
   "metadata": {},
   "outputs": [],
   "source": [
    "for val in top_20_i:\n",
    "    train[val]=where(train['Issue']==val,1,0)"
   ]
  },
  {
   "cell_type": "code",
   "execution_count": 23,
   "metadata": {},
   "outputs": [
    {
     "data": {
      "text/plain": [
       "Loan modification,collection,foreclosure    19942\n",
       "Incorrect information on credit report      14818\n",
       "Loan servicing, payments, escrow account    12883\n",
       "Cont'd attempts collect debt not owed        8931\n",
       "Account opening, closing, or management      5934\n",
       "Disclosure verification of debt              4018\n",
       "Communication tactics                        3802\n",
       "Deposits and withdrawals                     3762\n",
       "Application, originator, mortgage broker     2813\n",
       "Billing disputes                             2362\n",
       "Other                                        2322\n",
       "Credit reporting company's investigation     2307\n",
       "Name: Issue, dtype: int64"
      ]
     },
     "execution_count": 23,
     "metadata": {},
     "output_type": "execute_result"
    }
   ],
   "source": [
    "xtest['Issue'].value_counts().head(12)"
   ]
  },
  {
   "cell_type": "code",
   "execution_count": 24,
   "metadata": {},
   "outputs": [
    {
     "data": {
      "text/plain": [
       "94"
      ]
     },
     "execution_count": 24,
     "metadata": {},
     "output_type": "execute_result"
    }
   ],
   "source": [
    "xtest['Issue'].nunique()"
   ]
  },
  {
   "cell_type": "code",
   "execution_count": 25,
   "metadata": {},
   "outputs": [
    {
     "data": {
      "text/plain": [
       "pandas.core.indexes.base.Index"
      ]
     },
     "execution_count": 25,
     "metadata": {},
     "output_type": "execute_result"
    }
   ],
   "source": [
    "type(xtest['Issue'].value_counts().sort_values(ascending=False).head(12).index)"
   ]
  },
  {
   "cell_type": "code",
   "execution_count": 26,
   "metadata": {},
   "outputs": [],
   "source": [
    "top_20_ii=[x for x in xtest['Issue'].value_counts().sort_values(ascending=False).head(12).index]"
   ]
  },
  {
   "cell_type": "code",
   "execution_count": 27,
   "metadata": {},
   "outputs": [
    {
     "data": {
      "text/plain": [
       "list"
      ]
     },
     "execution_count": 27,
     "metadata": {},
     "output_type": "execute_result"
    }
   ],
   "source": [
    "type(top_20_ii)"
   ]
  },
  {
   "cell_type": "code",
   "execution_count": 28,
   "metadata": {},
   "outputs": [],
   "source": [
    "for val in top_20_ii:\n",
    "    xtest[val]=where(xtest['Issue']==val,1,0)"
   ]
  },
  {
   "cell_type": "code",
   "execution_count": 29,
   "metadata": {},
   "outputs": [
    {
     "data": {
      "text/plain": [
       "2237"
      ]
     },
     "execution_count": 29,
     "metadata": {},
     "output_type": "execute_result"
    }
   ],
   "source": [
    "xtest['Company'].nunique()"
   ]
  },
  {
   "cell_type": "code",
   "execution_count": 30,
   "metadata": {},
   "outputs": [],
   "source": [
    "top_10_c=[x for x in train['Company'].value_counts().sort_values(ascending=False).head(10).index]"
   ]
  },
  {
   "cell_type": "code",
   "execution_count": 31,
   "metadata": {},
   "outputs": [],
   "source": [
    "for val in top_10_c:\n",
    "    train[val]=where(train['Company']==val,1,0)"
   ]
  },
  {
   "cell_type": "code",
   "execution_count": 32,
   "metadata": {},
   "outputs": [],
   "source": [
    "top_10_cc=[x for x in xtest['Company'].value_counts().sort_values(ascending=False).head(10).index]"
   ]
  },
  {
   "cell_type": "code",
   "execution_count": 33,
   "metadata": {},
   "outputs": [],
   "source": [
    "for val in top_10_cc:\n",
    "    xtest[val]=where(xtest['Company']==val,1,0)"
   ]
  },
  {
   "cell_type": "code",
   "execution_count": 34,
   "metadata": {},
   "outputs": [
    {
     "name": "stdout",
     "output_type": "stream",
     "text": [
      "138473\n",
      "47\n"
     ]
    },
    {
     "data": {
      "text/plain": [
       "Other mortgage                            61522\n",
       "Conventional fixed mortgage               48028\n",
       "Checking account                          38310\n",
       "Other (i.e. phone, health club, etc.)     25691\n",
       "I do not know                             18169\n",
       "Credit card                               17981\n",
       "Conventional adjustable mortgage (ARM)    17566\n",
       "FHA mortgage                              16316\n",
       "Non-federal student loan                  15287\n",
       "Medical                                   11514\n",
       "Vehicle loan                              10714\n",
       "Other bank product/service                 9896\n",
       "Payday loan                                7837\n",
       "Home equity loan or line of credit         7605\n",
       "Installment loan                           4788\n",
       "Name: Sub-product, dtype: int64"
      ]
     },
     "execution_count": 34,
     "metadata": {},
     "output_type": "execute_result"
    }
   ],
   "source": [
    "print(train['Sub-product'].isnull().sum())\n",
    "print(train['Sub-product'].nunique())\n",
    "train['Sub-product'].value_counts().head(15)"
   ]
  },
  {
   "cell_type": "code",
   "execution_count": 35,
   "metadata": {},
   "outputs": [],
   "source": [
    "top_10_spt=[x for x in train['Sub-product'].value_counts().sort_values(ascending=False).head(10).index]"
   ]
  },
  {
   "cell_type": "code",
   "execution_count": 36,
   "metadata": {},
   "outputs": [],
   "source": [
    "for val in top_10_spt:\n",
    "    train[val]=where(train['Sub-product']==val,1,0)"
   ]
  },
  {
   "cell_type": "code",
   "execution_count": 38,
   "metadata": {},
   "outputs": [],
   "source": [
    "top_10_sp=[x for x in xtest['Sub-product'].value_counts().sort_values(ascending=False).head(10).index]"
   ]
  },
  {
   "cell_type": "code",
   "execution_count": 39,
   "metadata": {},
   "outputs": [],
   "source": [
    "for val in top_10_sp:\n",
    "    xtest[val]=where(xtest['Sub-product']==val,1,0)"
   ]
  },
  {
   "cell_type": "code",
   "execution_count": 40,
   "metadata": {},
   "outputs": [
    {
     "data": {
      "text/plain": [
       "((478421, 64), (119606, 63))"
      ]
     },
     "execution_count": 40,
     "metadata": {},
     "output_type": "execute_result"
    }
   ],
   "source": [
    "train.shape,xtest.shape"
   ]
  },
  {
   "cell_type": "code",
   "execution_count": 41,
   "metadata": {},
   "outputs": [
    {
     "name": "stdout",
     "output_type": "stream",
     "text": [
      "292625\n",
      "68\n"
     ]
    },
    {
     "data": {
      "text/plain": [
       "Account status                              22891\n",
       "Debt is not mine                            22333\n",
       "Information is not mine                     17625\n",
       "Not given enough info to verify debt        11124\n",
       "Debt was paid                                9885\n",
       "Frequent or repeated calls                   9540\n",
       "Account terms                                6360\n",
       "Attempted to collect wrong amount            5431\n",
       "Public record                                4893\n",
       "Problem getting my free annual report        4265\n",
       "Personal information                         4159\n",
       "Right to dispute notice not received         4085\n",
       "No notice of investigation status/result     3554\n",
       "Problem with statement of dispute            3552\n",
       "Report improperly shared by CRC              3059\n",
       "Name: Sub-issue, dtype: int64"
      ]
     },
     "execution_count": 41,
     "metadata": {},
     "output_type": "execute_result"
    }
   ],
   "source": [
    "print(train['Sub-issue'].isnull().sum())\n",
    "print(train['Sub-issue'].nunique())\n",
    "train['Sub-issue'].value_counts().head(15)"
   ]
  },
  {
   "cell_type": "code",
   "execution_count": 42,
   "metadata": {},
   "outputs": [],
   "source": [
    "top_10_sb=[x for x in train['Sub-issue'].value_counts().sort_values(ascending=False).head(10).index]"
   ]
  },
  {
   "cell_type": "code",
   "execution_count": 43,
   "metadata": {},
   "outputs": [],
   "source": [
    "for val in top_10_sb:\n",
    "    train[val]=where(train['Sub-issue']==val,1,0)"
   ]
  },
  {
   "cell_type": "code",
   "execution_count": 44,
   "metadata": {},
   "outputs": [],
   "source": [
    "top_10_sbt=[x for x in xtest['Sub-issue'].value_counts().sort_values(ascending=False).head(10).index]"
   ]
  },
  {
   "cell_type": "code",
   "execution_count": 45,
   "metadata": {},
   "outputs": [],
   "source": [
    "for val in top_10_sbt:\n",
    "    xtest[val]=where(xtest['Sub-issue']==val,1,0)"
   ]
  },
  {
   "cell_type": "code",
   "execution_count": 46,
   "metadata": {},
   "outputs": [
    {
     "data": {
      "text/plain": [
       "((478421, 74), (119606, 73))"
      ]
     },
     "execution_count": 46,
     "metadata": {},
     "output_type": "execute_result"
    }
   ],
   "source": [
    "train.shape,xtest.shape"
   ]
  },
  {
   "cell_type": "code",
   "execution_count": 47,
   "metadata": {},
   "outputs": [],
   "source": [
    "top_20_ccn=[x for x in train['Consumer complaint narrative'].value_counts().sort_values(ascending=False).head(20).index]"
   ]
  },
  {
   "cell_type": "code",
   "execution_count": 48,
   "metadata": {},
   "outputs": [],
   "source": [
    "for val in top_20_ccn:\n",
    "    train[val]=where(train['Consumer complaint narrative']==val,1,0)"
   ]
  },
  {
   "cell_type": "code",
   "execution_count": 49,
   "metadata": {},
   "outputs": [],
   "source": [
    "top_10_ccn1=[x for x in xtest['Consumer complaint narrative'].value_counts().sort_values(ascending=False).head(20).index]"
   ]
  },
  {
   "cell_type": "code",
   "execution_count": 50,
   "metadata": {},
   "outputs": [],
   "source": [
    "for val in top_10_ccn1:\n",
    "    xtest[val]=where(xtest['Consumer complaint narrative']==val,1,0)"
   ]
  },
  {
   "cell_type": "code",
   "execution_count": 51,
   "metadata": {},
   "outputs": [
    {
     "data": {
      "text/plain": [
       "((478421, 94), (119606, 93))"
      ]
     },
     "execution_count": 51,
     "metadata": {},
     "output_type": "execute_result"
    }
   ],
   "source": [
    "train.shape,xtest.shape"
   ]
  },
  {
   "cell_type": "code",
   "execution_count": 131,
   "metadata": {},
   "outputs": [],
   "source": [
    "# Consumer complaint narrative    101049\n",
    "# Company public response          96830\n",
    "# Company                              0\n",
    "# State                              925\n",
    "# ZIP code                           926\n",
    "# Tags                            102735\n",
    "# Consumer consent provided?       85742"
   ]
  },
  {
   "cell_type": "code",
   "execution_count": 52,
   "metadata": {},
   "outputs": [],
   "source": [
    "top_10_cpr=[x for x in train['Company public response'].value_counts().sort_values(ascending=False).head(5).index]"
   ]
  },
  {
   "cell_type": "code",
   "execution_count": 53,
   "metadata": {},
   "outputs": [],
   "source": [
    "for val in top_10_cpr:\n",
    "    train[val]=where(train['Company public response']==val,1,0)"
   ]
  },
  {
   "cell_type": "code",
   "execution_count": 54,
   "metadata": {},
   "outputs": [],
   "source": [
    "top_10_cpr1=[x for x in xtest['Company public response'].value_counts().sort_values(ascending=False).head(5).index]"
   ]
  },
  {
   "cell_type": "code",
   "execution_count": 55,
   "metadata": {},
   "outputs": [],
   "source": [
    "for val in top_10_cpr1:\n",
    "    xtest[val]=where(xtest['Company public response']==val,1,0)"
   ]
  },
  {
   "cell_type": "code",
   "execution_count": 56,
   "metadata": {},
   "outputs": [
    {
     "data": {
      "text/plain": [
       "4"
      ]
     },
     "execution_count": 56,
     "metadata": {},
     "output_type": "execute_result"
    }
   ],
   "source": [
    "train['Consumer consent provided?'].nunique()"
   ]
  },
  {
   "cell_type": "code",
   "execution_count": 57,
   "metadata": {},
   "outputs": [
    {
     "data": {
      "text/plain": [
       "((478421, 99), (119606, 98))"
      ]
     },
     "execution_count": 57,
     "metadata": {},
     "output_type": "execute_result"
    }
   ],
   "source": [
    "train.shape,xtest.shape"
   ]
  },
  {
   "cell_type": "code",
   "execution_count": 58,
   "metadata": {},
   "outputs": [],
   "source": [
    "top_10_ccp=[x for x in train['Consumer consent provided?'].value_counts().sort_values(ascending=False).index]"
   ]
  },
  {
   "cell_type": "code",
   "execution_count": 61,
   "metadata": {},
   "outputs": [],
   "source": [
    "for val in top_10_ccp:\n",
    "    train[val]=where(train['Consumer consent provided?']==val,1,0)"
   ]
  },
  {
   "cell_type": "code",
   "execution_count": 62,
   "metadata": {},
   "outputs": [],
   "source": [
    "top_10_ccp=[x for x in xtest['Consumer consent provided?'].value_counts().sort_values(ascending=False).index]"
   ]
  },
  {
   "cell_type": "code",
   "execution_count": 63,
   "metadata": {},
   "outputs": [],
   "source": [
    "for val in top_10_ccp:\n",
    "    xtest[val]=where(xtest['Consumer consent provided?']==val,1,0)"
   ]
  },
  {
   "cell_type": "code",
   "execution_count": 64,
   "metadata": {},
   "outputs": [],
   "source": [
    "top_10_t=[x for x in train['Tags'].value_counts().sort_values(ascending=False).index]"
   ]
  },
  {
   "cell_type": "code",
   "execution_count": 65,
   "metadata": {},
   "outputs": [],
   "source": [
    "for val in top_10_t:\n",
    "    train[val]=where(train['Tags']==val,1,0)"
   ]
  },
  {
   "cell_type": "code",
   "execution_count": 66,
   "metadata": {},
   "outputs": [],
   "source": [
    "top_10_t1=[x for x in xtest['Tags'].value_counts().sort_values(ascending=False).index]"
   ]
  },
  {
   "cell_type": "code",
   "execution_count": 67,
   "metadata": {},
   "outputs": [],
   "source": [
    "for val in top_10_t1:\n",
    "    xtest[val]=where(xtest['Tags']==val,1,0)"
   ]
  },
  {
   "cell_type": "code",
   "execution_count": 68,
   "metadata": {},
   "outputs": [
    {
     "data": {
      "text/html": [
       "<div>\n",
       "<style scoped>\n",
       "    .dataframe tbody tr th:only-of-type {\n",
       "        vertical-align: middle;\n",
       "    }\n",
       "\n",
       "    .dataframe tbody tr th {\n",
       "        vertical-align: top;\n",
       "    }\n",
       "\n",
       "    .dataframe thead th {\n",
       "        text-align: right;\n",
       "    }\n",
       "</style>\n",
       "<table border=\"1\" class=\"dataframe\">\n",
       "  <thead>\n",
       "    <tr style=\"text-align: right;\">\n",
       "      <th></th>\n",
       "      <th>Yes</th>\n",
       "      <th>Fax</th>\n",
       "      <th>Phone</th>\n",
       "      <th>Postal mail</th>\n",
       "      <th>Referral</th>\n",
       "      <th>Web</th>\n",
       "      <th>Closed with explanation</th>\n",
       "      <th>Closed with monetary relief</th>\n",
       "      <th>Closed with non-monetary relief</th>\n",
       "      <th>Closed with relief</th>\n",
       "      <th>...</th>\n",
       "      <th>Company has responded to the consumer and the CFPB and chooses not to provide a public response</th>\n",
       "      <th>Company believes it acted appropriately as authorized by contract or law</th>\n",
       "      <th>Company believes complaint caused principally by actions of third party outside the control or direction of the company</th>\n",
       "      <th>Company believes the complaint is the result of a misunderstanding</th>\n",
       "      <th>Consent provided</th>\n",
       "      <th>Consent not provided</th>\n",
       "      <th>Consent withdrawn</th>\n",
       "      <th>Older American</th>\n",
       "      <th>Servicemember</th>\n",
       "      <th>Older American, Servicemember</th>\n",
       "    </tr>\n",
       "  </thead>\n",
       "  <tbody>\n",
       "    <tr>\n",
       "      <td>0</td>\n",
       "      <td>1</td>\n",
       "      <td>0</td>\n",
       "      <td>0</td>\n",
       "      <td>0</td>\n",
       "      <td>0</td>\n",
       "      <td>1</td>\n",
       "      <td>1</td>\n",
       "      <td>0</td>\n",
       "      <td>0</td>\n",
       "      <td>0</td>\n",
       "      <td>...</td>\n",
       "      <td>0</td>\n",
       "      <td>0</td>\n",
       "      <td>0</td>\n",
       "      <td>0</td>\n",
       "      <td>0</td>\n",
       "      <td>0</td>\n",
       "      <td>0</td>\n",
       "      <td>1</td>\n",
       "      <td>0</td>\n",
       "      <td>0</td>\n",
       "    </tr>\n",
       "    <tr>\n",
       "      <td>1</td>\n",
       "      <td>1</td>\n",
       "      <td>0</td>\n",
       "      <td>0</td>\n",
       "      <td>0</td>\n",
       "      <td>1</td>\n",
       "      <td>0</td>\n",
       "      <td>0</td>\n",
       "      <td>0</td>\n",
       "      <td>0</td>\n",
       "      <td>0</td>\n",
       "      <td>...</td>\n",
       "      <td>0</td>\n",
       "      <td>0</td>\n",
       "      <td>0</td>\n",
       "      <td>0</td>\n",
       "      <td>0</td>\n",
       "      <td>0</td>\n",
       "      <td>0</td>\n",
       "      <td>0</td>\n",
       "      <td>0</td>\n",
       "      <td>0</td>\n",
       "    </tr>\n",
       "    <tr>\n",
       "      <td>2</td>\n",
       "      <td>1</td>\n",
       "      <td>0</td>\n",
       "      <td>0</td>\n",
       "      <td>0</td>\n",
       "      <td>1</td>\n",
       "      <td>0</td>\n",
       "      <td>0</td>\n",
       "      <td>0</td>\n",
       "      <td>1</td>\n",
       "      <td>0</td>\n",
       "      <td>...</td>\n",
       "      <td>0</td>\n",
       "      <td>0</td>\n",
       "      <td>0</td>\n",
       "      <td>0</td>\n",
       "      <td>0</td>\n",
       "      <td>0</td>\n",
       "      <td>0</td>\n",
       "      <td>0</td>\n",
       "      <td>0</td>\n",
       "      <td>0</td>\n",
       "    </tr>\n",
       "    <tr>\n",
       "      <td>3</td>\n",
       "      <td>1</td>\n",
       "      <td>0</td>\n",
       "      <td>0</td>\n",
       "      <td>0</td>\n",
       "      <td>0</td>\n",
       "      <td>1</td>\n",
       "      <td>0</td>\n",
       "      <td>1</td>\n",
       "      <td>0</td>\n",
       "      <td>0</td>\n",
       "      <td>...</td>\n",
       "      <td>0</td>\n",
       "      <td>0</td>\n",
       "      <td>0</td>\n",
       "      <td>0</td>\n",
       "      <td>1</td>\n",
       "      <td>0</td>\n",
       "      <td>0</td>\n",
       "      <td>1</td>\n",
       "      <td>0</td>\n",
       "      <td>0</td>\n",
       "    </tr>\n",
       "    <tr>\n",
       "      <td>4</td>\n",
       "      <td>1</td>\n",
       "      <td>0</td>\n",
       "      <td>0</td>\n",
       "      <td>0</td>\n",
       "      <td>0</td>\n",
       "      <td>1</td>\n",
       "      <td>1</td>\n",
       "      <td>0</td>\n",
       "      <td>0</td>\n",
       "      <td>0</td>\n",
       "      <td>...</td>\n",
       "      <td>0</td>\n",
       "      <td>0</td>\n",
       "      <td>0</td>\n",
       "      <td>0</td>\n",
       "      <td>0</td>\n",
       "      <td>0</td>\n",
       "      <td>0</td>\n",
       "      <td>0</td>\n",
       "      <td>0</td>\n",
       "      <td>0</td>\n",
       "    </tr>\n",
       "    <tr>\n",
       "      <td>...</td>\n",
       "      <td>...</td>\n",
       "      <td>...</td>\n",
       "      <td>...</td>\n",
       "      <td>...</td>\n",
       "      <td>...</td>\n",
       "      <td>...</td>\n",
       "      <td>...</td>\n",
       "      <td>...</td>\n",
       "      <td>...</td>\n",
       "      <td>...</td>\n",
       "      <td>...</td>\n",
       "      <td>...</td>\n",
       "      <td>...</td>\n",
       "      <td>...</td>\n",
       "      <td>...</td>\n",
       "      <td>...</td>\n",
       "      <td>...</td>\n",
       "      <td>...</td>\n",
       "      <td>...</td>\n",
       "      <td>...</td>\n",
       "      <td>...</td>\n",
       "    </tr>\n",
       "    <tr>\n",
       "      <td>478416</td>\n",
       "      <td>1</td>\n",
       "      <td>0</td>\n",
       "      <td>1</td>\n",
       "      <td>0</td>\n",
       "      <td>0</td>\n",
       "      <td>0</td>\n",
       "      <td>1</td>\n",
       "      <td>0</td>\n",
       "      <td>0</td>\n",
       "      <td>0</td>\n",
       "      <td>...</td>\n",
       "      <td>0</td>\n",
       "      <td>0</td>\n",
       "      <td>0</td>\n",
       "      <td>0</td>\n",
       "      <td>0</td>\n",
       "      <td>0</td>\n",
       "      <td>0</td>\n",
       "      <td>0</td>\n",
       "      <td>0</td>\n",
       "      <td>0</td>\n",
       "    </tr>\n",
       "    <tr>\n",
       "      <td>478417</td>\n",
       "      <td>1</td>\n",
       "      <td>0</td>\n",
       "      <td>1</td>\n",
       "      <td>0</td>\n",
       "      <td>0</td>\n",
       "      <td>0</td>\n",
       "      <td>1</td>\n",
       "      <td>0</td>\n",
       "      <td>0</td>\n",
       "      <td>0</td>\n",
       "      <td>...</td>\n",
       "      <td>0</td>\n",
       "      <td>0</td>\n",
       "      <td>0</td>\n",
       "      <td>0</td>\n",
       "      <td>0</td>\n",
       "      <td>0</td>\n",
       "      <td>0</td>\n",
       "      <td>0</td>\n",
       "      <td>0</td>\n",
       "      <td>0</td>\n",
       "    </tr>\n",
       "    <tr>\n",
       "      <td>478418</td>\n",
       "      <td>1</td>\n",
       "      <td>0</td>\n",
       "      <td>0</td>\n",
       "      <td>0</td>\n",
       "      <td>0</td>\n",
       "      <td>1</td>\n",
       "      <td>1</td>\n",
       "      <td>0</td>\n",
       "      <td>0</td>\n",
       "      <td>0</td>\n",
       "      <td>...</td>\n",
       "      <td>0</td>\n",
       "      <td>0</td>\n",
       "      <td>0</td>\n",
       "      <td>0</td>\n",
       "      <td>0</td>\n",
       "      <td>0</td>\n",
       "      <td>0</td>\n",
       "      <td>0</td>\n",
       "      <td>0</td>\n",
       "      <td>0</td>\n",
       "    </tr>\n",
       "    <tr>\n",
       "      <td>478419</td>\n",
       "      <td>1</td>\n",
       "      <td>0</td>\n",
       "      <td>0</td>\n",
       "      <td>0</td>\n",
       "      <td>0</td>\n",
       "      <td>1</td>\n",
       "      <td>1</td>\n",
       "      <td>0</td>\n",
       "      <td>0</td>\n",
       "      <td>0</td>\n",
       "      <td>...</td>\n",
       "      <td>0</td>\n",
       "      <td>0</td>\n",
       "      <td>0</td>\n",
       "      <td>0</td>\n",
       "      <td>0</td>\n",
       "      <td>0</td>\n",
       "      <td>0</td>\n",
       "      <td>0</td>\n",
       "      <td>0</td>\n",
       "      <td>0</td>\n",
       "    </tr>\n",
       "    <tr>\n",
       "      <td>478420</td>\n",
       "      <td>1</td>\n",
       "      <td>0</td>\n",
       "      <td>0</td>\n",
       "      <td>0</td>\n",
       "      <td>0</td>\n",
       "      <td>1</td>\n",
       "      <td>0</td>\n",
       "      <td>0</td>\n",
       "      <td>1</td>\n",
       "      <td>0</td>\n",
       "      <td>...</td>\n",
       "      <td>0</td>\n",
       "      <td>0</td>\n",
       "      <td>0</td>\n",
       "      <td>0</td>\n",
       "      <td>0</td>\n",
       "      <td>0</td>\n",
       "      <td>0</td>\n",
       "      <td>1</td>\n",
       "      <td>0</td>\n",
       "      <td>0</td>\n",
       "    </tr>\n",
       "  </tbody>\n",
       "</table>\n",
       "<p>478421 rows × 105 columns</p>\n",
       "</div>"
      ],
      "text/plain": [
       "        Yes  Fax  Phone  Postal mail  Referral  Web  Closed with explanation  \\\n",
       "0         1    0      0            0         0    1                        1   \n",
       "1         1    0      0            0         1    0                        0   \n",
       "2         1    0      0            0         1    0                        0   \n",
       "3         1    0      0            0         0    1                        0   \n",
       "4         1    0      0            0         0    1                        1   \n",
       "...     ...  ...    ...          ...       ...  ...                      ...   \n",
       "478416    1    0      1            0         0    0                        1   \n",
       "478417    1    0      1            0         0    0                        1   \n",
       "478418    1    0      0            0         0    1                        1   \n",
       "478419    1    0      0            0         0    1                        1   \n",
       "478420    1    0      0            0         0    1                        0   \n",
       "\n",
       "        Closed with monetary relief  Closed with non-monetary relief  \\\n",
       "0                                 0                                0   \n",
       "1                                 0                                0   \n",
       "2                                 0                                1   \n",
       "3                                 1                                0   \n",
       "4                                 0                                0   \n",
       "...                             ...                              ...   \n",
       "478416                            0                                0   \n",
       "478417                            0                                0   \n",
       "478418                            0                                0   \n",
       "478419                            0                                0   \n",
       "478420                            0                                1   \n",
       "\n",
       "        Closed with relief  ...  \\\n",
       "0                        0  ...   \n",
       "1                        0  ...   \n",
       "2                        0  ...   \n",
       "3                        0  ...   \n",
       "4                        0  ...   \n",
       "...                    ...  ...   \n",
       "478416                   0  ...   \n",
       "478417                   0  ...   \n",
       "478418                   0  ...   \n",
       "478419                   0  ...   \n",
       "478420                   0  ...   \n",
       "\n",
       "        Company has responded to the consumer and the CFPB and chooses not to provide a public response  \\\n",
       "0                                                       0                                                 \n",
       "1                                                       0                                                 \n",
       "2                                                       0                                                 \n",
       "3                                                       0                                                 \n",
       "4                                                       0                                                 \n",
       "...                                                   ...                                                 \n",
       "478416                                                  0                                                 \n",
       "478417                                                  0                                                 \n",
       "478418                                                  0                                                 \n",
       "478419                                                  0                                                 \n",
       "478420                                                  0                                                 \n",
       "\n",
       "        Company believes it acted appropriately as authorized by contract or law  \\\n",
       "0                                                       0                          \n",
       "1                                                       0                          \n",
       "2                                                       0                          \n",
       "3                                                       0                          \n",
       "4                                                       0                          \n",
       "...                                                   ...                          \n",
       "478416                                                  0                          \n",
       "478417                                                  0                          \n",
       "478418                                                  0                          \n",
       "478419                                                  0                          \n",
       "478420                                                  0                          \n",
       "\n",
       "        Company believes complaint caused principally by actions of third party outside the control or direction of the company  \\\n",
       "0                                                       0                                                                         \n",
       "1                                                       0                                                                         \n",
       "2                                                       0                                                                         \n",
       "3                                                       0                                                                         \n",
       "4                                                       0                                                                         \n",
       "...                                                   ...                                                                         \n",
       "478416                                                  0                                                                         \n",
       "478417                                                  0                                                                         \n",
       "478418                                                  0                                                                         \n",
       "478419                                                  0                                                                         \n",
       "478420                                                  0                                                                         \n",
       "\n",
       "        Company believes the complaint is the result of a misunderstanding  \\\n",
       "0                                                       0                    \n",
       "1                                                       0                    \n",
       "2                                                       0                    \n",
       "3                                                       0                    \n",
       "4                                                       0                    \n",
       "...                                                   ...                    \n",
       "478416                                                  0                    \n",
       "478417                                                  0                    \n",
       "478418                                                  0                    \n",
       "478419                                                  0                    \n",
       "478420                                                  0                    \n",
       "\n",
       "        Consent provided  Consent not provided  Consent withdrawn  \\\n",
       "0                      0                     0                  0   \n",
       "1                      0                     0                  0   \n",
       "2                      0                     0                  0   \n",
       "3                      1                     0                  0   \n",
       "4                      0                     0                  0   \n",
       "...                  ...                   ...                ...   \n",
       "478416                 0                     0                  0   \n",
       "478417                 0                     0                  0   \n",
       "478418                 0                     0                  0   \n",
       "478419                 0                     0                  0   \n",
       "478420                 0                     0                  0   \n",
       "\n",
       "        Older American  Servicemember  Older American, Servicemember  \n",
       "0                    1              0                              0  \n",
       "1                    0              0                              0  \n",
       "2                    0              0                              0  \n",
       "3                    1              0                              0  \n",
       "4                    0              0                              0  \n",
       "...                ...            ...                            ...  \n",
       "478416               0              0                              0  \n",
       "478417               0              0                              0  \n",
       "478418               0              0                              0  \n",
       "478419               0              0                              0  \n",
       "478420               1              0                              0  \n",
       "\n",
       "[478421 rows x 105 columns]"
      ]
     },
     "execution_count": 68,
     "metadata": {},
     "output_type": "execute_result"
    }
   ],
   "source": [
    "train"
   ]
  },
  {
   "cell_type": "code",
   "execution_count": 69,
   "metadata": {},
   "outputs": [
    {
     "data": {
      "text/plain": [
       "Index(['Yes', 'Fax', 'Phone', 'Postal mail', 'Referral', 'Web',\n",
       "       'Closed with explanation', 'Closed with monetary relief',\n",
       "       'Closed with non-monetary relief', 'Closed with relief',\n",
       "       ...\n",
       "       'Company has responded to the consumer and the CFPB and chooses not to provide a public response',\n",
       "       'Company believes it acted appropriately as authorized by contract or law',\n",
       "       'Company believes complaint caused principally by actions of third party outside the control or direction of the company',\n",
       "       'Company believes the complaint is the result of a misunderstanding',\n",
       "       'Consent provided', 'Consent not provided', 'Consent withdrawn',\n",
       "       'Older American', 'Servicemember', 'Older American, Servicemember'],\n",
       "      dtype='object', length=105)"
      ]
     },
     "execution_count": 69,
     "metadata": {},
     "output_type": "execute_result"
    }
   ],
   "source": [
    "train.columns"
   ]
  },
  {
   "cell_type": "code",
   "execution_count": 70,
   "metadata": {},
   "outputs": [],
   "source": [
    "for col in ['Issue','Company','Sub-product','Consumer complaint narrative','Company public response','Consumer consent provided?','Sub-issue','Tags']:\n",
    "    train=train.drop([col],axis=1)\n",
    "    xtest=xtest.drop([col],axis=1)"
   ]
  },
  {
   "cell_type": "code",
   "execution_count": 71,
   "metadata": {},
   "outputs": [],
   "source": [
    "ytest['Consumer disputed?'] = le.fit_transform(ytest['Consumer disputed?'])\n"
   ]
  },
  {
   "cell_type": "code",
   "execution_count": 72,
   "metadata": {},
   "outputs": [],
   "source": [
    "ytest=ytest.drop(['Complaint ID'],axis=1)"
   ]
  },
  {
   "cell_type": "code",
   "execution_count": 73,
   "metadata": {},
   "outputs": [],
   "source": [
    "train['Consumer disputed?'] = le.fit_transform(train['Consumer disputed?'])\n"
   ]
  },
  {
   "cell_type": "code",
   "execution_count": 74,
   "metadata": {},
   "outputs": [],
   "source": [
    "xtrain = train.drop('Consumer disputed?', axis=1)\n",
    "ytrain = train['Consumer disputed?']\n",
    "\n"
   ]
  },
  {
   "cell_type": "code",
   "execution_count": 75,
   "metadata": {},
   "outputs": [
    {
     "data": {
      "text/plain": [
       "((478421, 96), (119606, 96))"
      ]
     },
     "execution_count": 75,
     "metadata": {},
     "output_type": "execute_result"
    }
   ],
   "source": [
    "xtrain.shape,xtest.shape"
   ]
  },
  {
   "cell_type": "code",
   "execution_count": 76,
   "metadata": {},
   "outputs": [],
   "source": [
    "from sklearn.linear_model import LogisticRegression"
   ]
  },
  {
   "cell_type": "code",
   "execution_count": 77,
   "metadata": {},
   "outputs": [
    {
     "data": {
      "text/plain": [
       "LogisticRegression(C=0.0001, class_weight='balanced', dual=False,\n",
       "                   fit_intercept=True, intercept_scaling=1, l1_ratio=None,\n",
       "                   max_iter=100, multi_class='auto', n_jobs=None, penalty='l2',\n",
       "                   random_state=42, solver='lbfgs', tol=1e-06, verbose=0,\n",
       "                   warm_start=False)"
      ]
     },
     "execution_count": 77,
     "metadata": {},
     "output_type": "execute_result"
    }
   ],
   "source": [
    "model_logistic=LogisticRegression(C = 0.0001, tol = 0.000001, class_weight = \"balanced\",random_state = 42)\n",
    "model_logistic.fit(xtrain,ytrain)"
   ]
  },
  {
   "cell_type": "code",
   "execution_count": 78,
   "metadata": {},
   "outputs": [
    {
     "data": {
      "text/plain": [
       "0.5633657380681825"
      ]
     },
     "execution_count": 78,
     "metadata": {},
     "output_type": "execute_result"
    }
   ],
   "source": [
    "cross_val_score(model_logistic,xtrain,ytrain,cv = 10 , scoring  = 'accuracy').mean()"
   ]
  },
  {
   "cell_type": "code",
   "execution_count": 79,
   "metadata": {},
   "outputs": [],
   "source": [
    "pr=model_logistic.predict(xtest)"
   ]
  },
  {
   "cell_type": "code",
   "execution_count": 80,
   "metadata": {},
   "outputs": [
    {
     "data": {
      "text/plain": [
       "0.7911086104930072"
      ]
     },
     "execution_count": 80,
     "metadata": {},
     "output_type": "execute_result"
    }
   ],
   "source": [
    "auc=roc_auc_score(ytest,pr)\n",
    "auc"
   ]
  },
  {
   "cell_type": "code",
   "execution_count": 81,
   "metadata": {},
   "outputs": [
    {
     "data": {
      "text/plain": [
       "array([[68814, 49379],\n",
       "       [    0,  1413]], dtype=int64)"
      ]
     },
     "execution_count": 81,
     "metadata": {},
     "output_type": "execute_result"
    }
   ],
   "source": [
    "confusion_matrix(ytest,pr)"
   ]
  },
  {
   "cell_type": "code",
   "execution_count": 82,
   "metadata": {},
   "outputs": [
    {
     "data": {
      "text/plain": [
       "0.5871528184204806"
      ]
     },
     "execution_count": 82,
     "metadata": {},
     "output_type": "execute_result"
    }
   ],
   "source": [
    "accuracy_score(ytest,pr)"
   ]
  },
  {
   "cell_type": "code",
   "execution_count": 83,
   "metadata": {},
   "outputs": [
    {
     "name": "stdout",
     "output_type": "stream",
     "text": [
      "Classification Report\n",
      "              precision    recall  f1-score   support\n",
      "\n",
      "           0       1.00      0.58      0.74    118193\n",
      "           1       0.03      1.00      0.05      1413\n",
      "\n",
      "    accuracy                           0.59    119606\n",
      "   macro avg       0.51      0.79      0.40    119606\n",
      "weighted avg       0.99      0.59      0.73    119606\n",
      "\n",
      "Confusion matrix\n",
      "[[68814 49379]\n",
      " [    0  1413]]\n"
     ]
    }
   ],
   "source": [
    "from sklearn.metrics import confusion_matrix,classification_report\n",
    "print(\"Classification Report\")\n",
    "print (classification_report(ytest,pr))\n",
    "print (\"Confusion matrix\")\n",
    "print (confusion_matrix(ytest,pr))"
   ]
  },
  {
   "cell_type": "code",
   "execution_count": 84,
   "metadata": {},
   "outputs": [],
   "source": [
    "#after applying pca , components are still same ..."
   ]
  },
  {
   "cell_type": "code",
   "execution_count": 82,
   "metadata": {},
   "outputs": [],
   "source": [
    "#logistic is giving better results than other alg \n",
    "#checked for tree models , model preformance is low "
   ]
  }
 ],
 "metadata": {
  "kernelspec": {
   "display_name": "Python 3",
   "language": "python",
   "name": "python3"
  },
  "language_info": {
   "codemirror_mode": {
    "name": "ipython",
    "version": 3
   },
   "file_extension": ".py",
   "mimetype": "text/x-python",
   "name": "python",
   "nbconvert_exporter": "python",
   "pygments_lexer": "ipython3",
   "version": "3.7.4"
  }
 },
 "nbformat": 4,
 "nbformat_minor": 2
}
